{
 "cells": [
  {
   "metadata": {},
   "cell_type": "markdown",
   "source": "# Data Science Tools and Ecosystem",
   "id": "b2d16c77ad6b8d"
  },
  {
   "metadata": {},
   "cell_type": "markdown",
   "source": [
    "###### In this notebook, Data Science Tools and Ecosystem are summarized.\n",
    "#### Objectives:\n",
    "- Data Science Task Categories include Data Management, Data Integration and Transformation, Data Visualization, Modelling\n",
    "- Data Science Tasks support Code Asset Management, Data Asset Management, Development Environments, Execution Environments\n",
    "- The popular languages are Python, R, SQL, Scala, Java, C++, and Julia\n",
    "- Application Programming Interfaces (APIs) facilitate communication between software components\n",
    "-  Git is one of the most popular distributed version control systems\n",
    "-  GitHub, GitLab and Bitbucket are examples of hosted version control systems."
   ],
   "id": "d5c4173b1299e27d"
  },
  {
   "metadata": {},
   "cell_type": "markdown",
   "source": [
    "#### Some of the popular languages that Data Scientists use are:\n",
    "1. Python\n",
    "2. SQL\n",
    "3. R\n",
    "4. Scala\n",
    "5. Julia"
   ],
   "id": "ac8ad57b940ede25"
  },
  {
   "metadata": {},
   "cell_type": "markdown",
   "source": [
    "#### Some of the commonly used libraries used by Data Scientists include:\n",
    "1. Numpy\n",
    "2. Pandas\n",
    "3. Matplotlib\n",
    "4. Sklearn\n",
    "5. Scipy"
   ],
   "id": "8ef02da8cc09ae32"
  },
  {
   "metadata": {},
   "cell_type": "markdown",
   "source": [
    "\n",
    "| Data Science Tools |\n",
    "|----------|\n",
    "| Visual Studio Code(VS Code) |\n",
    "| Jupyter Lab and Notebooks |\n",
    "| R-Studio |\n",
    "| DataSpell|\n",
    "| Spyder |\n"
   ],
   "id": "a3d6f46f4a3995a8"
  },
  {
   "metadata": {},
   "cell_type": "markdown",
   "source": [
    "### Below are a few examples of evaluating arithmetic expressions in Python\n",
    "1. Addition "
   ],
   "id": "6903e6d0c6d8aaf7"
  },
  {
   "metadata": {
    "ExecuteTime": {
     "end_time": "2024-06-10T18:29:18.733018Z",
     "start_time": "2024-06-10T18:29:18.714396Z"
    }
   },
   "cell_type": "code",
   "source": "3 + 5",
   "id": "c52776a1442302cc",
   "outputs": [
    {
     "data": {
      "text/plain": [
       "8"
      ]
     },
     "execution_count": 2,
     "metadata": {},
     "output_type": "execute_result"
    }
   ],
   "execution_count": 2
  },
  {
   "metadata": {},
   "cell_type": "markdown",
   "source": "2. Subtraction",
   "id": "24896a0ef590d5d0"
  },
  {
   "metadata": {
    "ExecuteTime": {
     "end_time": "2024-06-10T18:29:19.566532Z",
     "start_time": "2024-06-10T18:29:19.556390Z"
    }
   },
   "cell_type": "code",
   "source": "10 - 4",
   "id": "f793e8e2e4bbc0e5",
   "outputs": [
    {
     "data": {
      "text/plain": [
       "6"
      ]
     },
     "execution_count": 3,
     "metadata": {},
     "output_type": "execute_result"
    }
   ],
   "execution_count": 3
  },
  {
   "metadata": {
    "ExecuteTime": {
     "end_time": "2024-06-10T18:29:33.345507Z",
     "start_time": "2024-06-10T18:29:33.338959Z"
    }
   },
   "cell_type": "code",
   "source": [
    "# This a simple arithmetic expression to multiply then add integers\n",
    "(3*4)+5"
   ],
   "id": "d2a2da00cc9e6bf9",
   "outputs": [
    {
     "data": {
      "text/plain": [
       "17"
      ]
     },
     "execution_count": 6,
     "metadata": {},
     "output_type": "execute_result"
    }
   ],
   "execution_count": 6
  },
  {
   "metadata": {
    "ExecuteTime": {
     "end_time": "2024-06-10T18:29:34.215144Z",
     "start_time": "2024-06-10T18:29:34.201952Z"
    }
   },
   "cell_type": "code",
   "source": [
    "# This will convert 200 minutes to hours by diving by 60\n",
    "minutes = 200\n",
    "hours = minutes//60\n",
    "hours"
   ],
   "id": "d5fc1a14813b1421",
   "outputs": [
    {
     "data": {
      "text/plain": [
       "3"
      ]
     },
     "execution_count": 7,
     "metadata": {},
     "output_type": "execute_result"
    }
   ],
   "execution_count": 7
  },
  {
   "metadata": {},
   "cell_type": "markdown",
   "source": [
    "## Auther\n",
    "Mohammadreza asgari"
   ],
   "id": "5864d345f91b4226"
  }
 ],
 "metadata": {
  "kernelspec": {
   "display_name": "Python 3",
   "language": "python",
   "name": "python3"
  },
  "language_info": {
   "codemirror_mode": {
    "name": "ipython",
    "version": 2
   },
   "file_extension": ".py",
   "mimetype": "text/x-python",
   "name": "python",
   "nbconvert_exporter": "python",
   "pygments_lexer": "ipython2",
   "version": "2.7.6"
  }
 },
 "nbformat": 4,
 "nbformat_minor": 5
}
